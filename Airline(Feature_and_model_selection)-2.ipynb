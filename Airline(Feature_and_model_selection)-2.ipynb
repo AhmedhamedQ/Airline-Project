{
 "cells": [
  {
   "cell_type": "markdown",
   "id": "13538903-c44a-4bef-9082-e6eaffe0472b",
   "metadata": {},
   "source": [
    "# Airline(feature selection and model evaluation)"
   ]
  },
  {
   "cell_type": "markdown",
   "id": "cc257795-fe47-4a4d-acfd-5a132c1e9f16",
   "metadata": {},
   "source": [
    "## Read Data"
   ]
  },
  {
   "cell_type": "code",
   "execution_count": 1,
   "id": "26c62a4b-5a0e-47cd-b7f4-3fb4b31d74a5",
   "metadata": {},
   "outputs": [],
   "source": [
    "import pandas as pd \n",
    "import numpy as np "
   ]
  },
  {
   "cell_type": "code",
   "execution_count": 2,
   "id": "804af690-7ce2-4b0a-9b8a-6f41fed9f46c",
   "metadata": {},
   "outputs": [],
   "source": [
    "df = pd.read_csv('Airline-2.csv')"
   ]
  },
  {
   "cell_type": "code",
   "execution_count": 3,
   "id": "0fc7c969-2f16-438d-bbf0-281367d28513",
   "metadata": {},
   "outputs": [
    {
     "data": {
      "text/html": [
       "<div>\n",
       "<style scoped>\n",
       "    .dataframe tbody tr th:only-of-type {\n",
       "        vertical-align: middle;\n",
       "    }\n",
       "\n",
       "    .dataframe tbody tr th {\n",
       "        vertical-align: top;\n",
       "    }\n",
       "\n",
       "    .dataframe thead th {\n",
       "        text-align: right;\n",
       "    }\n",
       "</style>\n",
       "<table border=\"1\" class=\"dataframe\">\n",
       "  <thead>\n",
       "    <tr style=\"text-align: right;\">\n",
       "      <th></th>\n",
       "      <th>Airline</th>\n",
       "      <th>month(2019)</th>\n",
       "      <th>Source</th>\n",
       "      <th>Destination</th>\n",
       "      <th>Route</th>\n",
       "      <th>Duration</th>\n",
       "      <th>Total_Stops</th>\n",
       "      <th>Additional_Info</th>\n",
       "      <th>Price</th>\n",
       "    </tr>\n",
       "  </thead>\n",
       "  <tbody>\n",
       "    <tr>\n",
       "      <th>0</th>\n",
       "      <td>IndiGo</td>\n",
       "      <td>March</td>\n",
       "      <td>Banglore</td>\n",
       "      <td>New Delhi</td>\n",
       "      <td>BLR → DEL</td>\n",
       "      <td>170</td>\n",
       "      <td>0</td>\n",
       "      <td>No info</td>\n",
       "      <td>3897</td>\n",
       "    </tr>\n",
       "    <tr>\n",
       "      <th>1</th>\n",
       "      <td>SpiceJet</td>\n",
       "      <td>June</td>\n",
       "      <td>Kolkata</td>\n",
       "      <td>Banglore</td>\n",
       "      <td>CCU → BLR</td>\n",
       "      <td>145</td>\n",
       "      <td>0</td>\n",
       "      <td>No info</td>\n",
       "      <td>3873</td>\n",
       "    </tr>\n",
       "    <tr>\n",
       "      <th>2</th>\n",
       "      <td>Jet Airways</td>\n",
       "      <td>March</td>\n",
       "      <td>Banglore</td>\n",
       "      <td>New Delhi</td>\n",
       "      <td>BLR → BOM → DEL</td>\n",
       "      <td>930</td>\n",
       "      <td>1</td>\n",
       "      <td>In-flight meal not included</td>\n",
       "      <td>11087</td>\n",
       "    </tr>\n",
       "    <tr>\n",
       "      <th>3</th>\n",
       "      <td>Jet Airways</td>\n",
       "      <td>March</td>\n",
       "      <td>Banglore</td>\n",
       "      <td>New Delhi</td>\n",
       "      <td>BLR → BOM → DEL</td>\n",
       "      <td>1530</td>\n",
       "      <td>1</td>\n",
       "      <td>In-flight meal not included</td>\n",
       "      <td>11087</td>\n",
       "    </tr>\n",
       "    <tr>\n",
       "      <th>4</th>\n",
       "      <td>Multiple carriers</td>\n",
       "      <td>May</td>\n",
       "      <td>Delhi</td>\n",
       "      <td>Cochin</td>\n",
       "      <td>DEL → BOM → COK</td>\n",
       "      <td>470</td>\n",
       "      <td>1</td>\n",
       "      <td>No info</td>\n",
       "      <td>8625</td>\n",
       "    </tr>\n",
       "    <tr>\n",
       "      <th>...</th>\n",
       "      <td>...</td>\n",
       "      <td>...</td>\n",
       "      <td>...</td>\n",
       "      <td>...</td>\n",
       "      <td>...</td>\n",
       "      <td>...</td>\n",
       "      <td>...</td>\n",
       "      <td>...</td>\n",
       "      <td>...</td>\n",
       "    </tr>\n",
       "    <tr>\n",
       "      <th>9045</th>\n",
       "      <td>SpiceJet</td>\n",
       "      <td>May</td>\n",
       "      <td>Banglore</td>\n",
       "      <td>Delhi</td>\n",
       "      <td>BLR → DEL</td>\n",
       "      <td>160</td>\n",
       "      <td>0</td>\n",
       "      <td>No check-in baggage included</td>\n",
       "      <td>3257</td>\n",
       "    </tr>\n",
       "    <tr>\n",
       "      <th>9046</th>\n",
       "      <td>Air Asia</td>\n",
       "      <td>April</td>\n",
       "      <td>Kolkata</td>\n",
       "      <td>Banglore</td>\n",
       "      <td>CCU → BLR</td>\n",
       "      <td>150</td>\n",
       "      <td>0</td>\n",
       "      <td>No info</td>\n",
       "      <td>4107</td>\n",
       "    </tr>\n",
       "    <tr>\n",
       "      <th>9047</th>\n",
       "      <td>Air India</td>\n",
       "      <td>April</td>\n",
       "      <td>Kolkata</td>\n",
       "      <td>Banglore</td>\n",
       "      <td>CCU → BLR</td>\n",
       "      <td>155</td>\n",
       "      <td>0</td>\n",
       "      <td>No info</td>\n",
       "      <td>4145</td>\n",
       "    </tr>\n",
       "    <tr>\n",
       "      <th>9048</th>\n",
       "      <td>Jet Airways</td>\n",
       "      <td>April</td>\n",
       "      <td>Banglore</td>\n",
       "      <td>Delhi</td>\n",
       "      <td>BLR → DEL</td>\n",
       "      <td>180</td>\n",
       "      <td>0</td>\n",
       "      <td>No info</td>\n",
       "      <td>7229</td>\n",
       "    </tr>\n",
       "    <tr>\n",
       "      <th>9049</th>\n",
       "      <td>Vistara</td>\n",
       "      <td>March</td>\n",
       "      <td>Banglore</td>\n",
       "      <td>New Delhi</td>\n",
       "      <td>BLR → DEL</td>\n",
       "      <td>160</td>\n",
       "      <td>0</td>\n",
       "      <td>No info</td>\n",
       "      <td>12648</td>\n",
       "    </tr>\n",
       "  </tbody>\n",
       "</table>\n",
       "<p>9050 rows × 9 columns</p>\n",
       "</div>"
      ],
      "text/plain": [
       "                Airline month(2019)    Source Destination            Route  \\\n",
       "0                IndiGo       March  Banglore   New Delhi        BLR → DEL   \n",
       "1              SpiceJet        June   Kolkata    Banglore        CCU → BLR   \n",
       "2           Jet Airways       March  Banglore   New Delhi  BLR → BOM → DEL   \n",
       "3           Jet Airways       March  Banglore   New Delhi  BLR → BOM → DEL   \n",
       "4     Multiple carriers         May     Delhi      Cochin  DEL → BOM → COK   \n",
       "...                 ...         ...       ...         ...              ...   \n",
       "9045           SpiceJet         May  Banglore       Delhi        BLR → DEL   \n",
       "9046           Air Asia       April   Kolkata    Banglore        CCU → BLR   \n",
       "9047          Air India       April   Kolkata    Banglore        CCU → BLR   \n",
       "9048        Jet Airways       April  Banglore       Delhi        BLR → DEL   \n",
       "9049            Vistara       March  Banglore   New Delhi        BLR → DEL   \n",
       "\n",
       "      Duration  Total_Stops               Additional_Info  Price  \n",
       "0          170            0                       No info   3897  \n",
       "1          145            0                       No info   3873  \n",
       "2          930            1   In-flight meal not included  11087  \n",
       "3         1530            1   In-flight meal not included  11087  \n",
       "4          470            1                       No info   8625  \n",
       "...        ...          ...                           ...    ...  \n",
       "9045       160            0  No check-in baggage included   3257  \n",
       "9046       150            0                       No info   4107  \n",
       "9047       155            0                       No info   4145  \n",
       "9048       180            0                       No info   7229  \n",
       "9049       160            0                       No info  12648  \n",
       "\n",
       "[9050 rows x 9 columns]"
      ]
     },
     "execution_count": 3,
     "metadata": {},
     "output_type": "execute_result"
    }
   ],
   "source": [
    "df"
   ]
  },
  {
   "cell_type": "markdown",
   "id": "4ea2eea6-93ce-476d-b79a-b799ca7558e1",
   "metadata": {},
   "source": [
    "## import libs"
   ]
  },
  {
   "cell_type": "code",
   "execution_count": 4,
   "id": "c3910e3d-fa04-4a40-b682-3a52f8722670",
   "metadata": {},
   "outputs": [],
   "source": [
    "from sklearn.compose import ColumnTransformer\n",
    "from sklearn.preprocessing import OneHotEncoder  , StandardScaler\n",
    "from category_encoders import BinaryEncoder\n",
    "from sklearn.impute import KNNImputer ,SimpleImputer \n",
    "from imblearn.under_sampling import EditedNearestNeighbours\n",
    "from imblearn.pipeline import Pipeline\n",
    "from imblearn.combine import SMOTEENN\n",
    "from imblearn.over_sampling import SMOTE\n",
    "from sklearn.metrics import r2_score\n",
    "from category_encoders import BinaryEncoder\n",
    "from sklearn.model_selection import cross_validate \n",
    "from sklearn.feature_selection import SequentialFeatureSelector\n",
    "from sklearn.linear_model import LinearRegression ,Ridge ,Lasso,ElasticNet , HuberRegressor\n",
    "from sklearn.neighbors import KNeighborsRegressor\n",
    "from sklearn.ensemble import RandomForestRegressor\n",
    "from sklearn.svm import SVR\n",
    "from xgboost import XGBRegressor\n",
    "import time as te"
   ]
  },
  {
   "cell_type": "markdown",
   "id": "84cf7e2b-19b6-4395-9856-3026796f1324",
   "metadata": {},
   "source": [
    "## Columns Transformer"
   ]
  },
  {
   "cell_type": "code",
   "execution_count": 5,
   "id": "f9b8bc69-f09d-448a-941a-e219b621996d",
   "metadata": {},
   "outputs": [
    {
     "data": {
      "text/plain": [
       "Index(['Airline', 'month(2019)', 'Source', 'Destination', 'Route', 'Duration',\n",
       "       'Total_Stops', 'Additional_Info', 'Price'],\n",
       "      dtype='object')"
      ]
     },
     "execution_count": 5,
     "metadata": {},
     "output_type": "execute_result"
    }
   ],
   "source": [
    "df.columns"
   ]
  },
  {
   "cell_type": "code",
   "execution_count": 6,
   "id": "c2cc04fe-9d10-4748-bd70-8b88290e003f",
   "metadata": {},
   "outputs": [
    {
     "name": "stdout",
     "output_type": "stream",
     "text": [
      "num of unique values in Airline = 8 and his index = 0\n",
      "num of unique values in month(2019) = 4 and his index = 1\n",
      "num of unique values in Source = 5 and his index = 2\n",
      "num of unique values in Destination = 6 and his index = 3\n",
      "num of unique values in Route = 19 and his index = 4\n",
      "num of unique values in Additional_Info = 3 and his index = 7\n"
     ]
    }
   ],
   "source": [
    "indexing = df.columns.to_list()\n",
    "for i in ['Airline', 'month(2019)', 'Source', 'Destination', 'Route','Additional_Info'] :\n",
    "    print(f'num of unique values in {i} = {len(df[i].unique().tolist())} and his index = {indexing.index(i)}')"
   ]
  },
  {
   "cell_type": "code",
   "execution_count": 7,
   "id": "a3ec0026-a20c-49d4-86b7-0b52f42bc852",
   "metadata": {},
   "outputs": [],
   "source": [
    "Encoding = ColumnTransformer(transformers=[('Encoding1',OneHotEncoder(sparse_output=False , drop='first'),[0,1,2,3,7]) , \n",
    "                                          ('Encoding2' , BinaryEncoder(), [4])] , remainder='passthrough')"
   ]
  },
  {
   "cell_type": "markdown",
   "id": "b82857a0-662f-45fc-ab37-c74d241c8a01",
   "metadata": {},
   "source": [
    "## models list"
   ]
  },
  {
   "cell_type": "code",
   "execution_count": 8,
   "id": "edf20099-bbc2-451b-a0ca-f1b049a39fa3",
   "metadata": {},
   "outputs": [],
   "source": [
    "models = [\n",
    "    ('LR' , LinearRegression()),\n",
    "    ('HR',HuberRegressor()),\n",
    "    ('ER',ElasticNet()),\n",
    "    ('LA',Lasso()),\n",
    "    ('RI' , Ridge()),\n",
    "    ('KNN' , KNeighborsRegressor()),\n",
    "]"
   ]
  },
  {
   "cell_type": "code",
   "execution_count": 9,
   "id": "062d9eeb-268b-47ab-a1a1-35c8e0a71735",
   "metadata": {},
   "outputs": [],
   "source": [
    "models2 = [\n",
    "    ('RF' , RandomForestRegressor()),\n",
    "    ('SVM',SVR()),\n",
    "    ('XG',XGBRegressor())\n",
    "]"
   ]
  },
  {
   "cell_type": "markdown",
   "id": "2f746e3a-7f2e-4e6d-9133-6bb6ef49d291",
   "metadata": {},
   "source": [
    "## x,y"
   ]
  },
  {
   "cell_type": "code",
   "execution_count": 10,
   "id": "8f9086bc-196c-4d78-ac1b-155454b864c5",
   "metadata": {},
   "outputs": [],
   "source": [
    "x = df.drop('Price' , axis=1)\n",
    "y = df['Price']"
   ]
  },
  {
   "cell_type": "code",
   "execution_count": 11,
   "id": "ce8ae8a9-d70a-423b-8d2d-4a6f28511a7f",
   "metadata": {},
   "outputs": [
    {
     "data": {
      "text/html": [
       "<div>\n",
       "<style scoped>\n",
       "    .dataframe tbody tr th:only-of-type {\n",
       "        vertical-align: middle;\n",
       "    }\n",
       "\n",
       "    .dataframe tbody tr th {\n",
       "        vertical-align: top;\n",
       "    }\n",
       "\n",
       "    .dataframe thead th {\n",
       "        text-align: right;\n",
       "    }\n",
       "</style>\n",
       "<table border=\"1\" class=\"dataframe\">\n",
       "  <thead>\n",
       "    <tr style=\"text-align: right;\">\n",
       "      <th></th>\n",
       "      <th>Airline</th>\n",
       "      <th>month(2019)</th>\n",
       "      <th>Source</th>\n",
       "      <th>Destination</th>\n",
       "      <th>Route</th>\n",
       "      <th>Duration</th>\n",
       "      <th>Total_Stops</th>\n",
       "      <th>Additional_Info</th>\n",
       "    </tr>\n",
       "  </thead>\n",
       "  <tbody>\n",
       "    <tr>\n",
       "      <th>0</th>\n",
       "      <td>IndiGo</td>\n",
       "      <td>March</td>\n",
       "      <td>Banglore</td>\n",
       "      <td>New Delhi</td>\n",
       "      <td>BLR → DEL</td>\n",
       "      <td>170</td>\n",
       "      <td>0</td>\n",
       "      <td>No info</td>\n",
       "    </tr>\n",
       "    <tr>\n",
       "      <th>1</th>\n",
       "      <td>SpiceJet</td>\n",
       "      <td>June</td>\n",
       "      <td>Kolkata</td>\n",
       "      <td>Banglore</td>\n",
       "      <td>CCU → BLR</td>\n",
       "      <td>145</td>\n",
       "      <td>0</td>\n",
       "      <td>No info</td>\n",
       "    </tr>\n",
       "    <tr>\n",
       "      <th>2</th>\n",
       "      <td>Jet Airways</td>\n",
       "      <td>March</td>\n",
       "      <td>Banglore</td>\n",
       "      <td>New Delhi</td>\n",
       "      <td>BLR → BOM → DEL</td>\n",
       "      <td>930</td>\n",
       "      <td>1</td>\n",
       "      <td>In-flight meal not included</td>\n",
       "    </tr>\n",
       "    <tr>\n",
       "      <th>3</th>\n",
       "      <td>Jet Airways</td>\n",
       "      <td>March</td>\n",
       "      <td>Banglore</td>\n",
       "      <td>New Delhi</td>\n",
       "      <td>BLR → BOM → DEL</td>\n",
       "      <td>1530</td>\n",
       "      <td>1</td>\n",
       "      <td>In-flight meal not included</td>\n",
       "    </tr>\n",
       "    <tr>\n",
       "      <th>4</th>\n",
       "      <td>Multiple carriers</td>\n",
       "      <td>May</td>\n",
       "      <td>Delhi</td>\n",
       "      <td>Cochin</td>\n",
       "      <td>DEL → BOM → COK</td>\n",
       "      <td>470</td>\n",
       "      <td>1</td>\n",
       "      <td>No info</td>\n",
       "    </tr>\n",
       "  </tbody>\n",
       "</table>\n",
       "</div>"
      ],
      "text/plain": [
       "             Airline month(2019)    Source Destination            Route  \\\n",
       "0             IndiGo       March  Banglore   New Delhi        BLR → DEL   \n",
       "1           SpiceJet        June   Kolkata    Banglore        CCU → BLR   \n",
       "2        Jet Airways       March  Banglore   New Delhi  BLR → BOM → DEL   \n",
       "3        Jet Airways       March  Banglore   New Delhi  BLR → BOM → DEL   \n",
       "4  Multiple carriers         May     Delhi      Cochin  DEL → BOM → COK   \n",
       "\n",
       "   Duration  Total_Stops              Additional_Info  \n",
       "0       170            0                      No info  \n",
       "1       145            0                      No info  \n",
       "2       930            1  In-flight meal not included  \n",
       "3      1530            1  In-flight meal not included  \n",
       "4       470            1                      No info  "
      ]
     },
     "execution_count": 11,
     "metadata": {},
     "output_type": "execute_result"
    }
   ],
   "source": [
    "x.head()"
   ]
  },
  {
   "cell_type": "markdown",
   "id": "e10e1e13-3f3d-4fb0-8079-30d8f73bffd8",
   "metadata": {},
   "source": [
    "## Loops"
   ]
  },
  {
   "cell_type": "markdown",
   "id": "17d9a901-c752-4b60-b52b-41f47c84894f",
   "metadata": {},
   "source": [
    "### Loop1"
   ]
  },
  {
   "cell_type": "code",
   "execution_count": null,
   "id": "b00296bd-c6e2-434b-9cba-96e6f63cf818",
   "metadata": {},
   "outputs": [
    {
     "name": "stdout",
     "output_type": "stream",
     "text": [
      "start time is Mon Jan  8 06:59:16 2024\n",
      "__________________________________________________\n",
      "Model: LR\n",
      "Train r2 score: 0.7576077817446046\n",
      "Test r2 scorer: 0.7558032940005243\n",
      "end time is for model LR Mon Jan  8 07:01:34 2024\n",
      "__________________________________________________\n",
      "Model: HR\n"
     ]
    }
   ],
   "source": [
    "print(f'start time is {te.asctime()}')\n",
    "for model in models:\n",
    "    print('_'*50)\n",
    "    print('Model:', model[0])\n",
    "    steps = [\n",
    "        ('encoders',Encoding),\n",
    "        ('scaling' , StandardScaler()),\n",
    "        (\"FeaSel\", SequentialFeatureSelector(estimator=model[1], n_features_to_select=0.95, direction='forward', scoring='r2', cv=5)),\n",
    "        ( model)\n",
    "    ]\n",
    "    pipeline = Pipeline(steps=steps)\n",
    "    res = cross_validate(pipeline , x , y , scoring='r2',return_train_score=True )\n",
    "    print(\"Train r2 score:\", res['train_score'].mean())\n",
    "    print(\"Test r2 scorer:\", res['test_score'].mean())\n",
    "    print(f'end time is for model {model[0]} {te.asctime()}')\n",
    "print('_'*50)"
   ]
  },
  {
   "cell_type": "markdown",
   "id": "ccf4579c-dda4-4614-8a38-560c0e9e2dc1",
   "metadata": {},
   "source": [
    "### loop 2"
   ]
  },
  {
   "cell_type": "code",
   "execution_count": null,
   "id": "6abc77a3-e9f5-4bf3-9a36-9b093b4af239",
   "metadata": {},
   "outputs": [],
   "source": [
    "print(f'start time is {te.asctime()}')\n",
    "for model in models2:\n",
    "    print('_'*50)\n",
    "    print('Model:', model[0])\n",
    "    steps = [\n",
    "        ('encoders',Encoding),\n",
    "        ('scaling' , StandardScaler()),\n",
    "        (\"FeaSel\", SequentialFeatureSelector(estimator=model[1], n_features_to_select=0.95, direction='forward', scoring='r2', cv=5)),\n",
    "        ( model)\n",
    "    ]\n",
    "    pipeline = Pipeline(steps=steps)\n",
    "    res = cross_validate(pipeline , x , y , scoring='r2',return_train_score=True )\n",
    "    print(\"Train r2 score:\", res['train_score'].mean())\n",
    "    print(\"Test r2 scorer:\", res['test_score'].mean())\n",
    "    print(f'end time is for model {model[0]} {te.asctime()}')\n",
    "print('_'*50)"
   ]
  },
  {
   "cell_type": "code",
   "execution_count": null,
   "id": "01e39b84-6bcb-4ccc-828e-923db8493849",
   "metadata": {},
   "outputs": [],
   "source": []
  }
 ],
 "metadata": {
  "kernelspec": {
   "display_name": "Python 3 (ipykernel)",
   "language": "python",
   "name": "python3"
  },
  "language_info": {
   "codemirror_mode": {
    "name": "ipython",
    "version": 3
   },
   "file_extension": ".py",
   "mimetype": "text/x-python",
   "name": "python",
   "nbconvert_exporter": "python",
   "pygments_lexer": "ipython3",
   "version": "3.11.5"
  }
 },
 "nbformat": 4,
 "nbformat_minor": 5
}
